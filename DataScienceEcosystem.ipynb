{
 "cells": [
  {
   "cell_type": "markdown",
   "metadata": {},
   "source": [
    "<center>\n",
    "    <img src=\"https://cf-courses-data.s3.us.cloud-object-storage.appdomain.cloud/IBMDeveloperSkillsNetwork-DS0105EN-SkillsNetwork/labs/Module2/images/SN_web_lightmode.png\" width=\"300\" alt=\"cognitiveclass.ai logo\">\n",
    "</center>\n"
   ]
  },
  {
   "cell_type": "markdown",
   "metadata": {
    "tags": []
   },
   "source": [
    "# Data Science Tools and Ecosystem"
   ]
  },
  {
   "cell_type": "markdown",
   "metadata": {},
   "source": [
    "In this notebook, Data Science Tools and Ecosystem are summarized."
   ]
  },
  {
   "cell_type": "markdown",
   "metadata": {},
   "source": [
    "**Objectives:**\n",
    "- List popular languages for Data Science\n",
    "- List commonly used libraries for Data Science\n",
    "- List development environment open source tools used in data science\n",
    "- Examples of evaluating arithmetic expressions in Python"
   ]
  },
  {
   "cell_type": "markdown",
   "metadata": {},
   "source": [
    "Some of the popular languages that Data Scientists use are:\n",
    "1. Python\n",
    "2. R\n",
    "3. SQL\n",
    "4. Java\n",
    "5. Scala\n",
    "6. Julia\n",
    "7. SAS\n",
    "8. Matlab"
   ]
  },
  {
   "cell_type": "markdown",
   "metadata": {},
   "source": [
    "Some of the commonly used libraries used by Data Scientists include:\n",
    "\n",
    "**Python Libraries:**\n",
    "\n",
    "1. **NumPy** (Numerical Python): Used for numerical computations and supports large, multi-dimensional arrays and matrices.\n",
    "\n",
    "2. **Pandas**: Offers data structures and operations for manipulating numerical tables and time-series data.\n",
    "\n",
    "3. **Matplotlib**: A plotting library used for creating static, animated, and interactive visualizations in Python.\n",
    "\n",
    "4. **Seaborn**: Based on Matplotlib, it provides a high-level interface for drawing attractive and informative statistical graphics.\n",
    "\n",
    "5. **Scikit-learn**: A machine learning library that provides simple and efficient tools for data mining and data analysis.\n",
    "\n",
    "6. **TensorFlow**: An open-source library developed by Google Brain for building and training neural networks, used heavily in deep learning applications.\n",
    "\n",
    "7. **Keras**: A high-level neural networks API, capable of running on top of TensorFlow, and designed for fast experimentation with deep neural networks.\n",
    "\n",
    "8. **NLTK** (Natural Language Toolkit): Used for working with human language data and provides easy-to-use interfaces to over 50 corpora and lexical resources.\n",
    "\n",
    "9. **SciPy**: Used for scientific and technical computing and builds on NumPy by adding a collection of algorithms and high-level commands for data manipulation and analysis.\n",
    "\n",
    "10. **PyTorch**: Another open-source machine learning library for Python, based on Torch, used for applications such as natural language processing.\n",
    "\n",
    "**R Libraries:**\n",
    "\n",
    "1. **dplyr**: Used for data manipulation, it provides a set of tools for efficiently manipulating datasets in R.\n",
    "\n",
    "2. **ggplot2**: A powerful and flexible library for creating static, aesthetic graphs.\n",
    "\n",
    "3. **caret** (Classification and Regression Training): Provides a set of functions that attempt to streamline the process for creating predictive models.\n",
    "\n",
    "4. **Shiny**: An R package that makes it easy to build interactive web apps straight from R.\n",
    "\n",
    "5. **tidyverse**: An opinionated collection of R packages designed for data science, including dplyr, ggplot2, and others.\n",
    "\n",
    "6. **stringr**: A cohesive set of functions designed to make working with strings as easy as possible.\n",
    "\n",
    "7. **lubridate**: Makes dealing with dates and times easier in R.\n",
    "\n",
    "8. **randomForest**: Implements the Random Forest machine learning algorithm for classification and regression.\n",
    "\n",
    "9. **tm** (Text Mining): A framework for text mining applications within R.\n",
    "\n",
    "10. **knitr**: A general-purpose literate programming engine in R, with lightweight API's designed to give users full control of the output without heavy coding work.\n"
   ]
  },
  {
   "cell_type": "markdown",
   "metadata": {},
   "source": [
    "| Data Science Tools |\n",
    "| -------------|\n",
    "| Jupyter Notebook |\n",
    "| RStudio |\n",
    "| Apache Zeppelin |"
   ]
  },
  {
   "cell_type": "markdown",
   "metadata": {
    "tags": []
   },
   "source": [
    "### Below are a few examples of evaluating arithmetic expressions in Python"
   ]
  },
  {
   "cell_type": "code",
   "execution_count": 10,
   "metadata": {
    "tags": []
   },
   "outputs": [
    {
     "data": {
      "text/plain": [
       "17"
      ]
     },
     "execution_count": 10,
     "metadata": {},
     "output_type": "execute_result"
    }
   ],
   "source": [
    "# This a simple arithmetic expression to mutiply then add integers\n",
    "(3*4)+5"
   ]
  },
  {
   "cell_type": "code",
   "execution_count": 11,
   "metadata": {
    "tags": []
   },
   "outputs": [
    {
     "data": {
      "text/plain": [
       "3.3333333333333335"
      ]
     },
     "execution_count": 11,
     "metadata": {},
     "output_type": "execute_result"
    }
   ],
   "source": [
    "# This will convert 200 minutes to hours by dividing by 60\n",
    "200/60"
   ]
  },
  {
   "cell_type": "markdown",
   "metadata": {},
   "source": [
    "## Author\n",
    "Harjot Singh Khera"
   ]
  }
 ],
 "metadata": {
  "kernelspec": {
   "display_name": "Python",
   "language": "python",
   "name": "conda-env-python-py"
  },
  "language_info": {
   "codemirror_mode": {
    "name": "ipython",
    "version": 3
   },
   "file_extension": ".py",
   "mimetype": "text/x-python",
   "name": "python",
   "nbconvert_exporter": "python",
   "pygments_lexer": "ipython3",
   "version": "3.7.12"
  }
 },
 "nbformat": 4,
 "nbformat_minor": 4
}
